{
 "cells": [
  {
   "cell_type": "code",
   "execution_count": null,
   "metadata": {},
   "outputs": [],
   "source": [
    "import os\n",
    "path=os.getcwd()\n",
    "os.chdir('lib')\n",
    "from flood_model.forecast import Forecast\n",
    "import traceback\n",
    "import time\n",
    "import datetime\n",
    "from flood_model.settings import *\n",
    "from flood_model.dynamicDataDb import DatabaseManager as dbm\n",
    "try:\n",
    "    from flood_model.secrets import *\n",
    "except ImportError:\n",
    "    print('No secrets file found.')\n",
    "from flood_model.exposure import Exposure \n",
    "#import resource\n",
    "import os\n",
    "import logging\n",
    "import zipfile\n",
    "\n",
    "os.chdir(path)   \n",
    "\n",
    "\n",
    "# Set up logger\n",
    "logging.root.handlers = []\n",
    "logging.basicConfig(format='%(asctime)s : %(levelname)s : %(message)s', level=logging.DEBUG, filename='ex.log')\n",
    "# set up logging to console\n",
    "console = logging.StreamHandler()\n",
    "console.setLevel(logging.INFO)\n",
    "# set a format which is simpler for console use\n",
    "formatter = logging.Formatter('%(asctime)s : %(levelname)s : %(message)s')\n",
    "console.setFormatter(formatter)\n",
    "logging.getLogger(\"\").addHandler(console)"
   ]
  },
  {
   "cell_type": "code",
   "execution_count": null,
   "metadata": {},
   "outputs": [],
   "source": [
    "startTime = time.time()\n",
    "logger = logging.getLogger(__name__)\n",
    " \n",
    "logger.info(str(datetime.datetime.now()))\n",
    "## download data from Datalacke \n"
   ]
  },
  {
   "cell_type": "code",
   "execution_count": null,
   "metadata": {},
   "outputs": [],
   "source": [
    "\n",
    "\n",
    "\n",
    "\n",
    "#gdd.download_file_from_google_drive(file_id=GOOGLE_DRIVE_DATA_URL,dest_path='./data/data_flood.zip',overwrite=True,unzip=True)\n",
    "logger.info('finished data download')\n",
    "\n",
    "logger.info(str(datetime.datetime.now()))\n",
    "\n"
   ]
  },
  {
   "cell_type": "code",
   "execution_count": null,
   "metadata": {},
   "outputs": [],
   "source": [
    "\n",
    "for COUNTRY_CODE in COUNTRY_CODES:\n",
    "    logger.info(f'--------STARTING: {COUNTRY_CODE}' + '--------------------------')\n",
    "    COUNTRY_SETTINGS = SETTINGS[COUNTRY_CODE]\n",
    "    LEAD_TIMES = COUNTRY_SETTINGS['lead_times']\n",
    "\n",
    "    for leadTimeLabel, leadTimeValue in LEAD_TIMES.items():\n",
    "        logger.info(f'--------STARTING: {leadTimeLabel}' + '--------------------------')\n",
    "        fc = Forecast(leadTimeLabel, leadTimeValue, COUNTRY_CODE,COUNTRY_SETTINGS['admin_level'])\n",
    "        fc.glofasData.process()\n",
    "        logger.info('--------Finished GLOFAS data Processing')\n",
    "        fc.floodExtent.calculate()\n",
    "        logger.info('--------Finished flood extent')\n",
    "        fc.exposure.callAllExposure()\n",
    "        logger.info('--------Finished exposure')\n",
    "        if COUNTRY_CODE =='SSD':\n",
    "            fc.exposure.makeMaps()\n",
    "            logger.info('--------Finished make maps')                \n",
    "        fc.db.upload()                \n",
    "        logger.info('--------Finished upload')\n",
    "        fc.db.sendNotification()\n",
    "        logger.info('--------Finished notification')\n",
    " \n",
    "    elapsedTime = str(time.time() - startTime)\n",
    "    logger.info(str(elapsedTime))\n"
   ]
  },
  {
   "cell_type": "code",
   "execution_count": null,
   "metadata": {},
   "outputs": [],
   "source": [
    "\n"
   ]
  }
 ],
 "metadata": {
  "kernelspec": {
   "display_name": "Python 3.8.10 ('geo_env')",
   "language": "python",
   "name": "python3"
  },
  "language_info": {
   "codemirror_mode": {
    "name": "ipython",
    "version": 3
   },
   "file_extension": ".py",
   "mimetype": "text/x-python",
   "name": "python",
   "nbconvert_exporter": "python",
   "pygments_lexer": "ipython3",
   "version": "3.8.16"
  },
  "orig_nbformat": 4,
  "vscode": {
   "interpreter": {
    "hash": "c56dc72bed4e123c21144b1399355bbd07b8d587f6360d6b6ea22ee2ab335a35"
   }
  }
 },
 "nbformat": 4,
 "nbformat_minor": 2
}
